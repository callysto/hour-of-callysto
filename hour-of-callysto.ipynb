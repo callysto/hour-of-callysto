{
 "cells": [
  {
   "cell_type": "code",
   "execution_count": null,
   "metadata": {
    "jupyter": {
     "source_hidden": true
    },
    "slideshow": {
     "slide_type": "skip"
    }
   },
   "outputs": [],
   "source": [
    "%%html\n",
    "<style>div.run_this_cell{display:block;}</style>"
   ]
  },
  {
   "cell_type": "markdown",
   "metadata": {
    "slideshow": {
     "slide_type": "slide"
    }
   },
   "source": [
    "# 1. Welcome to the Hour of Callysto!\n",
    "\n",
    "To get started, click the Slideshow button <img src=\"images/slideshow-button.png\" style=\"display:inline-block;\"> or **ALT+R**\n",
    "\n",
    "Press **SPACEBAR** to continue, or use the arrows in the bottom right corner.\n",
    "\n",
    "Press **SHIFT + SPACEBARE** to go back a slide."
   ]
  },
  {
   "cell_type": "markdown",
   "metadata": {
    "slideshow": {
     "slide_type": "slide"
    }
   },
   "source": [
    "<img style=\"float:right;\" width=\"400\" src=\"images/library.jpg\">\n",
    "\n",
    "## 2. What is the Hour of Callysto?\n",
    "\n",
    "**Callysto** is a free and online collection of special textbooks for Canadian students. It's like your own personal school library of the future.\n"
   ]
  },
  {
   "cell_type": "markdown",
   "metadata": {
    "slideshow": {
     "slide_type": "subslide"
    }
   },
   "source": [
    "<img style=\"float:left;padding-right:10px;\" width=\"400px\" src=\"images/notebook.jpg\">\n",
    "\n",
    "Callysto uses **Jupyter** notebooks to display text, images, videos, and even code! It's a notebook where you **WRITE** and **RUN** code!\n",
    "\n",
    "It's the same tool used in universities  by programmers and data scientists! "
   ]
  },
  {
   "cell_type": "markdown",
   "metadata": {
    "slideshow": {
     "slide_type": "subslide"
    }
   },
   "source": [
    "<img style=\"float:left;padding-right:10px\" width=\"200px\" src=\"images/python.png\">\n",
    "\n",
    "We are going to use this notebook to learn *coding* with **Python**. \n",
    "\n",
    "Python *code* are instructions in a *language* that a computer can understand.\n",
    "\n",
    "When we are *coding*, we are telling the computer what to do!"
   ]
  },
  {
   "cell_type": "markdown",
   "metadata": {
    "slideshow": {
     "slide_type": "slide"
    }
   },
   "source": [
    "\n",
    "## 3. Getting Started with Callysto\n",
    "\n",
    "You've already made it here! To use Callysto:\n",
    "1. Log into Callysto: https://hub.callysto.ca\n",
    "1. Find an interesting notebook [from here](https://callysto.ca/learning_modules/)\n",
    "1. Click on it to get your own copy of it\n",
    "1. Open, read, run it from the hub (look for the .ipynb file)\n"
   ]
  },
  {
   "cell_type": "markdown",
   "metadata": {
    "slideshow": {
     "slide_type": "subslide"
    }
   },
   "source": [
    "<img src=\"images/hub.png\">\n"
   ]
  },
  {
   "cell_type": "markdown",
   "metadata": {
    "slideshow": {
     "slide_type": "slide"
    }
   },
   "source": [
    "# 4. Python\n",
    "\n",
    "What makes these notebooks cool is that we can write and run code, such as *Python*, directly inside the notebook! We're not just *READING* a textbook anymore; we can now use it to solve problems for us! \n",
    "\n",
    "Let's run our first program! Select the code block below and click <img src=\"images/run-button.png\" style=\"display:inline-block;\"> or CTRL+ENTER"
   ]
  },
  {
   "cell_type": "code",
   "execution_count": null,
   "metadata": {
    "slideshow": {
     "slide_type": "-"
    }
   },
   "outputs": [],
   "source": [
    "print(\"Hello Python Code!\")"
   ]
  },
  {
   "cell_type": "markdown",
   "metadata": {
    "slideshow": {
     "slide_type": "slide"
    }
   },
   "source": [
    "## 5. Comments\n",
    "\n",
    "A *hashtag* (#) at the start of the line means the code will not be run.\n",
    "\n",
    "- It is useful for writing comments (notes) in your code.\n",
    "- It is also useful to DEBUG and prevent code from running.\n"
   ]
  },
  {
   "cell_type": "markdown",
   "metadata": {
    "slideshow": {
     "slide_type": "slide"
    }
   },
   "source": [
    "### *ACTIVITY 5.1*\n",
    "\n",
    "This code block has a BAD line of code. \n",
    "1. Try to run it. \n",
    "1. Next, add a comment so that it doesn't get run.\n",
    "1. Finally, add your name as a comment."
   ]
  },
  {
   "cell_type": "code",
   "execution_count": null,
   "metadata": {
    "slideshow": {
     "slide_type": "-"
    }
   },
   "outputs": [],
   "source": [
    "# This notebook has been modified by: {your name here}\n",
    "#print(\"This code is good!\")\n",
    "print(This code is bad. Comment it out!)"
   ]
  },
  {
   "cell_type": "markdown",
   "metadata": {
    "slideshow": {
     "slide_type": "slide"
    }
   },
   "source": [
    "## 6. Arithmetic\n",
    "\n",
    "Computers are pretty good at math. We can use the following *OPERATORS* (i.e. *symbols*) to add, subtract, multiple, and divide numbers:\n",
    "\n",
    "    ADD:       +\n",
    "    SUBTRACT:  -\n",
    "    MULTIPLY:  *\n",
    "    DIVIDE:    /\n",
    "\n"
   ]
  },
  {
   "cell_type": "markdown",
   "metadata": {
    "slideshow": {
     "slide_type": "slide"
    }
   },
   "source": [
    "### *ACTIVITY 6.1*\n",
    "\n",
    "Try out some basic operators"
   ]
  },
  {
   "cell_type": "code",
   "execution_count": null,
   "metadata": {},
   "outputs": [],
   "source": [
    "# RUN ME: Adding two numbers\n",
    "7 + 14"
   ]
  },
  {
   "cell_type": "code",
   "execution_count": null,
   "metadata": {},
   "outputs": [],
   "source": [
    "# TRY YOUR OWN:\n",
    "# Add (+) Subtract (-) Multiply (*) Divide (/)\n"
   ]
  },
  {
   "cell_type": "markdown",
   "metadata": {
    "slideshow": {
     "slide_type": "slide"
    }
   },
   "source": [
    "### 6.2 Advanced operators\n",
    "\n",
    "Python code can also do more complex math operations, such as:\n",
    "\n",
    "    MODULUS (find the remainder):          %\n",
    "    FLOOR DIVIDE (divide and round down):  //\n",
    "    EXPONENT (multiply many times):        **\n"
   ]
  },
  {
   "cell_type": "markdown",
   "metadata": {
    "slideshow": {
     "slide_type": "slide"
    }
   },
   "source": [
    "### *ACTIVITY 6.3*\n",
    "\n",
    "Let's try out some advanced operators"
   ]
  },
  {
   "cell_type": "code",
   "execution_count": null,
   "metadata": {},
   "outputs": [],
   "source": [
    "# RUN ME: Find the remainder of 7 divided by 3\n",
    "7 % 3"
   ]
  },
  {
   "cell_type": "code",
   "execution_count": null,
   "metadata": {},
   "outputs": [],
   "source": [
    "# TRY YOUR OWN:\n",
    "# Use Floor Divide (//)  or  Exponent (**)\n"
   ]
  },
  {
   "cell_type": "markdown",
   "metadata": {
    "slideshow": {
     "slide_type": "slide"
    }
   },
   "source": [
    "### 6.3 COMPARISONS\n",
    "\n",
    "Python can also do a *COMPARISON TEST* on numbers and tell us if something is TRUE or FALSE. We use the following operators:\n",
    "\n",
    "    Equal:         ==\n",
    "    Not equal:     !=\n",
    "    Less than:     <\n",
    "    Greater than:  >\n",
    "    Less than, or equal to:    <=\n",
    "    Greater than, or equal to: >="
   ]
  },
  {
   "cell_type": "markdown",
   "metadata": {
    "slideshow": {
     "slide_type": "slide"
    }
   },
   "source": [
    "### *ACTIVITY 6.4*"
   ]
  },
  {
   "cell_type": "code",
   "execution_count": null,
   "metadata": {},
   "outputs": [],
   "source": [
    "# RUN ME: Is 5 less than 7?\n",
    "5 < 7"
   ]
  },
  {
   "cell_type": "code",
   "execution_count": null,
   "metadata": {},
   "outputs": [],
   "source": [
    "# RUN ME: Is one-half (1/2) EQUAL TO two-quarters (2/4)?\n",
    "1/2 == 2/4"
   ]
  },
  {
   "cell_type": "code",
   "execution_count": null,
   "metadata": {},
   "outputs": [],
   "source": [
    "# SOLVE THIS: Is two-thirds (2/3) greater than three-quarters (3/4)?\n"
   ]
  },
  {
   "cell_type": "markdown",
   "metadata": {
    "slideshow": {
     "slide_type": "slide"
    }
   },
   "source": [
    "<img style=\"float:right;\" width=\"500px\" src=\"images/variable.jpg\">\n",
    "\n",
    "## 7. Variables\n",
    "\n",
    "A **VARIABLE** is just *name* that holds a value, such as numbers or strings (words in quotations \" \").\n",
    "\n",
    "For example, try running the code below:"
   ]
  },
  {
   "cell_type": "code",
   "execution_count": null,
   "metadata": {},
   "outputs": [],
   "source": [
    "# RUN ME:\n",
    "mynumber = 10\n",
    "mystring = \"a secret message\"\n",
    "print(mynumber)\n",
    "print(mystring)"
   ]
  },
  {
   "cell_type": "markdown",
   "metadata": {
    "slideshow": {
     "slide_type": "slide"
    }
   },
   "source": [
    "### *ACTIVITY 7.1*\n",
    "\n",
    "Now, you try. **FILL IN THE BLANKS** in the following code:"
   ]
  },
  {
   "cell_type": "code",
   "execution_count": null,
   "metadata": {},
   "outputs": [],
   "source": [
    "# Put your name in a variable\n",
    "name = \"___\"\n",
    "\n",
    "# Put 355 in the variable\n",
    "top = ___\n",
    "\n",
    "# Put 113 in the variable called bottom\n",
    "______ = 113\n",
    "\n",
    "# Calculate pi using: top divided by bottom\n",
    "pi = ___ / ______"
   ]
  },
  {
   "cell_type": "markdown",
   "metadata": {
    "slideshow": {
     "slide_type": "slide"
    }
   },
   "source": [
    "### *ACTIVITY 7.2*\n",
    "\n",
    "Run the following code to see if we did *Activity 7.1* correctly"
   ]
  },
  {
   "cell_type": "code",
   "execution_count": null,
   "metadata": {
    "slideshow": {
     "slide_type": "-"
    }
   },
   "outputs": [],
   "source": [
    "# RUN ME: print a message\n",
    "print (\"Hello, %s. PI is approximately %d over %d or %f\" % (name, top, bottom, pi))"
   ]
  },
  {
   "cell_type": "markdown",
   "metadata": {
    "slideshow": {
     "slide_type": "slide"
    }
   },
   "source": [
    "## 8. Control Flow with LOOPS\n",
    "\n",
    "<img style=\"float:right;\" width=\"30%\" src=\"images/loop.gif\">\n",
    "\n",
    "Loops help us run code *OVER and OVER and OVER and ...* \n",
    "\n",
    "We keep *looping* as long as a COMPARISON TEST (remember those from section 6.3?) is TRUE.\n",
    "\n",
    "Code that is *indented* after the while loop are run each time."
   ]
  },
  {
   "cell_type": "markdown",
   "metadata": {
    "slideshow": {
     "slide_type": "slide"
    }
   },
   "source": [
    "### *ACTIVITY 8.1*\n",
    "\n",
    "What do you think the following code will do. Run it to see!"
   ]
  },
  {
   "cell_type": "code",
   "execution_count": null,
   "metadata": {},
   "outputs": [],
   "source": [
    "# Give the counter a starting point\n",
    "counter = 1\n",
    "\n",
    "# Paste your code here to run\n",
    "while counter <= 5:\n",
    "    print (counter)\n",
    "    counter = counter + 1\n",
    "\n",
    "# This code runs once we are done the while loop\n",
    "print (\"Look ma! I can count to 5!\")"
   ]
  },
  {
   "cell_type": "markdown",
   "metadata": {
    "slideshow": {
     "slide_type": "slide"
    }
   },
   "source": [
    "### *ACTIVITY 8.2*\n",
    "\n",
    "Now, let's try to write your own loop. **FILL IN THE BLANKS** to print the numbers 6 to 12"
   ]
  },
  {
   "cell_type": "code",
   "execution_count": null,
   "metadata": {
    "slideshow": {
     "slide_type": "-"
    }
   },
   "outputs": [],
   "source": [
    "# FILL IN: the number to start at\n",
    "index = ___\n",
    "\n",
    "# FILL IN: keep looping if index is less than or equal to ...\n",
    "while _____ <= ___ :\n",
    "    print(index)\n",
    "    index = index + 1"
   ]
  },
  {
   "cell_type": "markdown",
   "metadata": {
    "slideshow": {
     "slide_type": "slide"
    }
   },
   "source": [
    "### *SOLUTION 8.2*\n",
    "\n",
    "    index = 6\n",
    "\n",
    "    while index <= 12 :\n",
    "        print(index)\n",
    "        index = index + 1\n"
   ]
  },
  {
   "cell_type": "markdown",
   "metadata": {
    "slideshow": {
     "slide_type": "slide"
    }
   },
   "source": [
    "### *ACTIVITY 8.3*\n",
    "\n",
    "Now, let's to print EVEN numbers between 10 and 30. **FILL IN THE BLANKS**."
   ]
  },
  {
   "cell_type": "code",
   "execution_count": null,
   "metadata": {
    "slideshow": {
     "slide_type": "-"
    }
   },
   "outputs": [],
   "source": [
    "# FILL IN: the number to start at\n",
    "even = \n",
    "\n",
    "# FILL IN: loop as long as...?\n",
    "while ____ <= ____ :\n",
    "    print()\n",
    "    # FILL IN: increase the variable by ____ each time to keep it even \n",
    "    even = even + ____"
   ]
  },
  {
   "cell_type": "markdown",
   "metadata": {
    "slideshow": {
     "slide_type": "slide"
    }
   },
   "source": [
    "### *SOLUTION 8.3*\n",
    "\n",
    "    even = 10\n",
    "\n",
    "    while even <= 30 :\n",
    "        print(even_number)\n",
    "        even = even + 2\n"
   ]
  },
  {
   "cell_type": "markdown",
   "metadata": {
    "slideshow": {
     "slide_type": "slide"
    }
   },
   "source": [
    "### *ACTIVITY 8.4*\n",
    "\n",
    "Let's keep going! Print multiples of 10 that are LESS THAN 100. **FILL IN THE BLANKS**."
   ]
  },
  {
   "cell_type": "code",
   "execution_count": null,
   "metadata": {},
   "outputs": [],
   "source": [
    "tens = 0\n",
    "\n",
    "# FILL IN the comparison. Loop as long as tens is ...?\n",
    "while tens _ ___ :\n",
    "    print(tens)\n",
    "    # FILL IN: what do we do with the variable now?\n",
    "    tens = tens _ ___"
   ]
  },
  {
   "cell_type": "markdown",
   "metadata": {
    "slideshow": {
     "slide_type": "slide"
    }
   },
   "source": [
    "### *SOLUTION 8.4*\n",
    "\n",
    "    tens = 0\n",
    "    while tens < 100 :\n",
    "        print(tens)\n",
    "        tens = tens + 10\n"
   ]
  },
  {
   "cell_type": "markdown",
   "metadata": {
    "slideshow": {
     "slide_type": "slide"
    }
   },
   "source": [
    "### *ACTIVITY 8.5*\n",
    "\n",
    "Here's a tricky one. Print the first 9 *SQUARE* numbers. i.e. Print numbers that are multiplied by itself, such as 3 * 3. **FILL IN THE BLANKS**."
   ]
  },
  {
   "cell_type": "code",
   "execution_count": null,
   "metadata": {},
   "outputs": [],
   "source": [
    "square = 1\n",
    "while square != 10 :\n",
    "    print(_____ * _____)\n",
    "    square = square + ___"
   ]
  },
  {
   "cell_type": "markdown",
   "metadata": {},
   "source": [
    "*HINT* Just loop from 1 to 9. But *CALCULATE* and print the **SQUARE** each time. "
   ]
  },
  {
   "cell_type": "markdown",
   "metadata": {
    "slideshow": {
     "slide_type": "slide"
    }
   },
   "source": [
    "### *SOLUTION 8.5*\n",
    "\n",
    "    square = 1\n",
    "    while square != 10 :\n",
    "        print(square * square)\n",
    "        square = square + 1\n"
   ]
  },
  {
   "cell_type": "markdown",
   "metadata": {
    "slideshow": {
     "slide_type": "slide"
    }
   },
   "source": [
    "## *9. EXTRA CHALLENGE: FIBONACCI SEQUENCE*\n",
    "\n",
    "The fibonacci sequence is the SUM of the PREVIOUS TWO numbers.\n",
    "\n",
    "- The first two numbers are **1** and **1**.\n",
    "- The next number is 1 PLUS 1, which is **2**.\n",
    "- The next number is 1 PLUS 2, which is **3**.\n",
    "- The next number is 2 PLUS 3, which is **5**.\n",
    "\n",
    "**Find the FIBONACCI numbers less than 200**"
   ]
  },
  {
   "cell_type": "markdown",
   "metadata": {
    "slideshow": {
     "slide_type": "subslide"
    }
   },
   "source": [
    "<img src=\"images/fibonacci.png\" width=\"266\" style=\"float:right;\">    \n",
    "\n",
    "Here's a hint to get started:\n",
    "\n",
    "Put the first two numbers AND the sum into variables\n",
    "\n",
    "- N = 1\n",
    "- M = 1\n",
    "- sum = ..."
   ]
  },
  {
   "cell_type": "markdown",
   "metadata": {
    "slideshow": {
     "slide_type": "subslide"
    }
   },
   "source": [
    "<img src=\"images/fibonacci.png\" width=\"266\" style=\"float:right;\">    \n",
    "Next, make a loop that runs as long as N is less than 200\n",
    "\n",
    "- while N < 200:\n",
    "    \n",
    "Inside the loop, print the sum, and find NEW values for the variables\n",
    "\n",
    "- N = ?, M = ?, sum = ?"
   ]
  },
  {
   "cell_type": "code",
   "execution_count": null,
   "metadata": {
    "slideshow": {
     "slide_type": "slide"
    }
   },
   "outputs": [],
   "source": [
    "# SOLVE ME: PRINT the FIBONACCI numbers smaller than 200\n",
    "\n",
    "N = _\n",
    "M = _ \n",
    "sum = _ * _\n",
    "\n",
    "while sum < ___ :\n",
    "    print ( ___ )\n",
    "    N = _\n",
    "    M = ___\n",
    "    sum = _ * _"
   ]
  },
  {
   "cell_type": "markdown",
   "metadata": {
    "slideshow": {
     "slide_type": "slide"
    }
   },
   "source": [
    "### *SOLUTION*\n",
    "\n",
    "    N = 1\n",
    "    M = 1\n",
    "    sum = N + M\n",
    "\n",
    "    while sum < 200:\n",
    "        print(sum)\n",
    "        N = M\n",
    "        M = sum\n",
    "        sum = N + M"
   ]
  }
 ],
 "metadata": {
  "celltoolbar": "Slideshow",
  "kernelspec": {
   "display_name": "Python 3",
   "language": "python",
   "name": "python3"
  },
  "language_info": {
   "codemirror_mode": {
    "name": "ipython",
    "version": 3
   },
   "file_extension": ".py",
   "mimetype": "text/x-python",
   "name": "python",
   "nbconvert_exporter": "python",
   "pygments_lexer": "ipython3",
   "version": "3.7.5"
  }
 },
 "nbformat": 4,
 "nbformat_minor": 2
}
