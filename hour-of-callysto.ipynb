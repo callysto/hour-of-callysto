{
 "cells": [
  {
   "cell_type": "markdown",
   "metadata": {
    "slideshow": {
     "slide_type": "slide"
    }
   },
   "source": [
    "# Welcome to the Hour of Callysto!\n",
    "\n",
    "To get started, click the Slideshow button <img src=\"images/slideshow-button.png\" style=\"display:inline-block;\"> or **ALT+R**\n",
    "\n",
    "Press **SPACEBAR** to continue, or use the arrows in the bottom right corner."
   ]
  },
  {
   "cell_type": "markdown",
   "metadata": {
    "slideshow": {
     "slide_type": "slide"
    }
   },
   "source": [
    "## What is Callysto?\n",
    "\n",
    "**Callysto** is a free and online set of interactive interactive textbooks. It uses **Jupyter** notebooks, the same tool used by universities to learn coding and data science!  We are going to use this tool to introduce you to Python. After this, you can go into any of the Callysto notebooks and try out other learning modules on your own."
   ]
  },
  {
   "cell_type": "markdown",
   "metadata": {},
   "source": [
    "<tr>\n",
    "<td><img src=\"images/notebook.jpg\" width=\"400px\"> Jupyter is an interactive notebook</td>\n",
    "<td><img src=\"images/library.jpg\" width=\"400px\"> Callysto is a collection tailored for Canadian students</td>\n",
    "</tr>"
   ]
  },
  {
   "cell_type": "markdown",
   "metadata": {
    "slideshow": {
     "slide_type": "slide"
    }
   },
   "source": [
    "### Getting Started with Callysto\n",
    "\n",
    "You've already made it here! But, let's recap anyways:\n",
    "1. Log into the Callysto hub: https://hub.callysto.ca\n",
    "1. Find an interesting notebook (such as [this one!](https://hub.callysto.ca/jupyter/hub/user-redirect/git-pull?repo=https://github.com/Discover-Coding/Hour-of-Callysto))\n",
    "1. Read and interact with it (like you are now!)\n",
    "    1. Some can be run in slideshow mode: <img src=\"images/slideshow-button.png\" style=\"display:inline-block;\">\n",
    "    1. Code blocks are denoted with an input counter: <img src=\"images/in-block.png\" style=\"display:inline-block;\">\n",
    "    1. Run code in the notebook with: <img src=\"images/run-button.png\" style=\"display:inline-block;\">\n",
    "    1. Or, run code using CTRL+ENTER"
   ]
  },
  {
   "cell_type": "markdown",
   "metadata": {
    "slideshow": {
     "slide_type": "slide"
    }
   },
   "source": [
    "### Interacting with Jupyter\n",
    "\n",
    "1. Some notebooks can be viewed in slideshow mode: <img src=\"images/slideshow-button.png\" style=\"display:inline-block;\">\n",
    "1. Code blocks are denoted with an input counter: <img src=\"images/in-block.png\" style=\"display:inline-block;\">\n",
    "1. Run code in the notebook with: <img src=\"images/run-button.png\" style=\"display:inline-block;\">\n",
    "1. Or, run code using CTRL+ENTER"
   ]
  },
  {
   "cell_type": "markdown",
   "metadata": {
    "slideshow": {
     "slide_type": "slide"
    }
   },
   "source": [
    "# Python\n",
    "\n",
    "One of the things that makes this notebook interesting, is that we can run *Python* code directly inside it!\n",
    "\n",
    "Select the code block below. And click <img src=\"images/run-button.png\" style=\"display:inline-block;\"> or CTRL+ENTER"
   ]
  },
  {
   "cell_type": "code",
   "execution_count": 57,
   "metadata": {
    "slideshow": {
     "slide_type": "-"
    }
   },
   "outputs": [
    {
     "name": "stdout",
     "output_type": "stream",
     "text": [
      "Hello Python Code!\n"
     ]
    }
   ],
   "source": [
    "print(\"Hello Python Code!\")"
   ]
  },
  {
   "cell_type": "markdown",
   "metadata": {
    "slideshow": {
     "slide_type": "slide"
    }
   },
   "source": [
    "### Comments\n",
    "\n",
    "A pound sign (#) at the start of the line means the code will not be run.\n",
    "\n",
    "- It is useful for writing comments (notes) in your code.\n",
    "- It is also useful to DEBUG and prevent code from running.\n"
   ]
  },
  {
   "cell_type": "markdown",
   "metadata": {
    "slideshow": {
     "slide_type": "slide"
    }
   },
   "source": [
    "### *ACTIVITY*\n",
    "\n",
    "This code block has a BAD line of code. \n",
    "1. Try to run it. \n",
    "1. Next, add a comment so that it doesn't get run.\n",
    "1. Finally, add your name as a comment."
   ]
  },
  {
   "cell_type": "code",
   "execution_count": null,
   "metadata": {
    "slideshow": {
     "slide_type": "-"
    }
   },
   "outputs": [],
   "source": [
    "# This notebook has been modified by: {your name here}\n",
    " \n",
    "print(\"This code is good!\")\n",
    "print(This code is bad. Comment it out!)"
   ]
  },
  {
   "cell_type": "markdown",
   "metadata": {
    "slideshow": {
     "slide_type": "slide"
    }
   },
   "source": [
    "## Arithmetic\n",
    "Let's do some basic math with python. \n",
    "Try out some basic operators and see the output"
   ]
  },
  {
   "cell_type": "code",
   "execution_count": 62,
   "metadata": {},
   "outputs": [
    {
     "data": {
      "text/plain": [
       "36"
      ]
     },
     "execution_count": 62,
     "metadata": {},
     "output_type": "execute_result"
    }
   ],
   "source": [
    "# Basic operations: + - / *\n",
    "# i.e. 1 + 3\n",
    "1 + 35"
   ]
  },
  {
   "cell_type": "markdown",
   "metadata": {
    "slideshow": {
     "slide_type": "slide"
    }
   },
   "source": [
    "Now, let's try some more advanced operators:\n",
    "- Modulus (find the remainder): %\n",
    "- Floor division (divide and round down): //\n",
    "- Exponent (multiply many times): **"
   ]
  },
  {
   "cell_type": "code",
   "execution_count": 63,
   "metadata": {},
   "outputs": [
    {
     "data": {
      "text/plain": [
       "14.058823529411764"
      ]
     },
     "execution_count": 63,
     "metadata": {},
     "output_type": "execute_result"
    }
   ],
   "source": [
    "# What is the remainder of 239 divided by 17?\n",
    "239 / 17"
   ]
  },
  {
   "cell_type": "markdown",
   "metadata": {
    "slideshow": {
     "slide_type": "slide"
    }
   },
   "source": [
    "We can also COMPARE numbers. Python will tell us if it's TRUE or FALSE.\n",
    "- Equal: ==\n",
    "- Not equal: !=\n",
    "- Less than: <\n",
    "- Less than, or equal to: <=\n",
    "- Greater than: >\n",
    "- Greater than, or equal to: >="
   ]
  },
  {
   "cell_type": "code",
   "execution_count": null,
   "metadata": {},
   "outputs": [],
   "source": [
    "# Is: 713 divided by 5, greater than, 11 times 12?"
   ]
  },
  {
   "cell_type": "markdown",
   "metadata": {
    "slideshow": {
     "slide_type": "slide"
    }
   },
   "source": [
    "## Variables\n",
    "\n",
    "A **VARIABLE** is just *name* that holds a value, such as numbers or strings (must be enclosed with \" \").\n",
    "\n",
    "For example:\n",
    "\n",
    "    mynumber = 10\n",
    "    mystring = \"a secret message\"\n",
    "    print(mynumber)\n",
    "    print(mystring)\n",
    "    \n"
   ]
  },
  {
   "cell_type": "markdown",
   "metadata": {
    "slideshow": {
     "slide_type": "slide"
    }
   },
   "source": [
    "Now, you try"
   ]
  },
  {
   "cell_type": "code",
   "execution_count": 64,
   "metadata": {},
   "outputs": [],
   "source": [
    "# Store your name in a variable\n",
    "name = \"bob\"\n",
    "\n",
    "# Store the numbers 355 and 113 into variables named top and bottom\n",
    "top = 355\n",
    "bottom = 113\n",
    "\n",
    "# Now try to create the variable called pi that is top divided by bottom\n",
    "pi = top / bottom"
   ]
  },
  {
   "cell_type": "code",
   "execution_count": 65,
   "metadata": {},
   "outputs": [
    {
     "name": "stdout",
     "output_type": "stream",
     "text": [
      "Hello, bob. PI is approximately 355 over 113 or 3.141593\n"
     ]
    }
   ],
   "source": [
    "# Run this code to test\n",
    "print (\"Hello, %s. PI is approximately %d over %d or %f\" % (name, top, bottom, pi))"
   ]
  },
  {
   "cell_type": "markdown",
   "metadata": {
    "slideshow": {
     "slide_type": "slide"
    }
   },
   "source": [
    "## Control Flow 1: CONDITIONALS\n",
    "\n",
    "CONDITIONALS are how programs make decisions. *If* something is TRUE, then do one thing; *else*, do something else.\n",
    "\n",
    "A conditional looks like this:\n",
    "\n",
    "    if TEST :\n",
    "        some_code\n",
    "    elif TEST :\n",
    "        other_code\n",
    "    else : \n",
    "        some_other_code"
   ]
  },
  {
   "cell_type": "markdown",
   "metadata": {
    "slideshow": {
     "slide_type": "slide"
    }
   },
   "source": [
    "TEST is something that returns TRUE or FALSE, like we did previously, using:\n",
    "- Equal: ==\n",
    "- Not equal: !=\n",
    "- Less than: <\n",
    "- Less than, or equal to: <=\n",
    "- Greater than: >\n",
    "- Greater than, or equal to: >="
   ]
  },
  {
   "cell_type": "markdown",
   "metadata": {
    "slideshow": {
     "slide_type": "slide"
    }
   },
   "source": [
    "COPY this code to PASTE in the next slide\n",
    "\n",
    "    if mynumber == 10:\n",
    "        print (\"your number is ten\")\n",
    "        mynumber = 100\n",
    "    elif mynumber == 20:\n",
    "        print (\"your number is twenty\")\n",
    "        mynumber = 200\n",
    "    else:\n",
    "        print (\"your number is something else\")\n",
    "        mynumber = mynumber * 2\n",
    "        \n",
    "**NOTICE** the COLON and the SPACES!"
   ]
  },
  {
   "cell_type": "markdown",
   "metadata": {
    "slideshow": {
     "slide_type": "slide"
    }
   },
   "source": [
    "Fill in a number. What do you think it'll do? Try it!"
   ]
  },
  {
   "cell_type": "code",
   "execution_count": null,
   "metadata": {},
   "outputs": [],
   "source": [
    "# Set a number\n",
    "mynumber = \n",
    "\n",
    "# Paste the code here\n",
    "\n",
    "\n",
    "# Print what happened to the number...\n",
    "print (mynumber)"
   ]
  },
  {
   "cell_type": "markdown",
   "metadata": {
    "slideshow": {
     "slide_type": "slide"
    }
   },
   "source": [
    "### *ACTIVITY*\n",
    "\n",
    "Now, try writing your own basic conditional code. **Make sure to use COLON and SPACES!**"
   ]
  },
  {
   "cell_type": "code",
   "execution_count": null,
   "metadata": {
    "slideshow": {
     "slide_type": "-"
    }
   },
   "outputs": [],
   "source": [
    "# set x to a number\n",
    "x = 5\n",
    "print (\"x is %d\" % x)"
   ]
  },
  {
   "cell_type": "code",
   "execution_count": null,
   "metadata": {},
   "outputs": [],
   "source": [
    "# if x is less than 10, print SMALL\n",
    "if  _  < _ :\n",
    "    print (\"\")"
   ]
  },
  {
   "cell_type": "code",
   "execution_count": null,
   "metadata": {},
   "outputs": [],
   "source": [
    "# if x is even, print EVEN\n",
    "# else, print ODD\n",
    "# HINT: x % 2 is zero, if x is even\n",
    "if\n",
    "    print\n",
    "else\n",
    "    print"
   ]
  },
  {
   "cell_type": "markdown",
   "metadata": {
    "slideshow": {
     "slide_type": "slide"
    }
   },
   "source": [
    "### *SOLUTION*\n",
    "\n",
    "    if x < 10:\n",
    "        print (\"SMALL\")\n",
    "        \n",
    "    if x % 2 == 0:\n",
    "        print (\"EVEN\")\n",
    "    else\n",
    "        print (\"ODD\")\n"
   ]
  },
  {
   "cell_type": "markdown",
   "metadata": {
    "slideshow": {
     "slide_type": "slide"
    }
   },
   "source": [
    "## Control Flow 2: LOOPS\n",
    "\n",
    "Loops are CONDITIONALS that we do OVER and OVER and OVER again.\n",
    "\n",
    "We use the word \"while\" and a TEST. The code keeps repeating as long as the TEST is TRUE.\n",
    "\n",
    "Here's an example. COPY and PASTE in the next slide to try it out:\n",
    "\n",
    "    while counter < 5:\n",
    "        print (counter)\n",
    "        counter = counter + 1\n",
    "            \n",
    "**NOTICE** the COLON and the SPACES!\n",
    "Also make sure the number being TESTED inside the loop\n"
   ]
  },
  {
   "cell_type": "code",
   "execution_count": null,
   "metadata": {},
   "outputs": [],
   "source": [
    "# Give the counter a starting point\n",
    "counter = 0\n",
    "\n",
    "# Paste your code here to run\n",
    "\n",
    "\n",
    "# This code runs once we are done the while loop\n",
    "print (\"I'm done counting\")"
   ]
  },
  {
   "cell_type": "markdown",
   "metadata": {
    "slideshow": {
     "slide_type": "slide"
    }
   },
   "source": [
    "### *ACTIVITY*\n",
    "\n",
    "Now, try writing your own looping code. **Make sure to use COLON and SPACES!**"
   ]
  },
  {
   "cell_type": "code",
   "execution_count": null,
   "metadata": {
    "slideshow": {
     "slide_type": "-"
    }
   },
   "outputs": [],
   "source": [
    "# Replace the _ to print the numbers 1 to 10\n",
    "index = _\n",
    "\n",
    "while _ <= _ :\n",
    "    print(index)\n",
    "    index = _ _ _"
   ]
  },
  {
   "cell_type": "markdown",
   "metadata": {
    "slideshow": {
     "slide_type": "slide"
    }
   },
   "source": [
    "### *SOLUTION*\n",
    "\n",
    "    index = 1\n",
    "\n",
    "    while index <= 10 :\n",
    "        print(index)\n",
    "        index = index + 1\n"
   ]
  },
  {
   "cell_type": "code",
   "execution_count": null,
   "metadata": {
    "slideshow": {
     "slide_type": "slide"
    }
   },
   "outputs": [],
   "source": [
    "# Now, print EVEN numbers between 10 and 30\n",
    "even_number = \n",
    "\n",
    "while <  :\n",
    "    print()\n",
    "    even_number = "
   ]
  },
  {
   "cell_type": "markdown",
   "metadata": {
    "slideshow": {
     "slide_type": "slide"
    }
   },
   "source": [
    "### *SOLUTION*\n",
    "\n",
    "    even_number = 10\n",
    "\n",
    "    while even_number <= 30 :\n",
    "        print(even_number)\n",
    "        even_number = even_number + 2\n"
   ]
  },
  {
   "cell_type": "markdown",
   "metadata": {
    "slideshow": {
     "slide_type": "slide"
    }
   },
   "source": [
    "### *More Number Sequences*\n",
    "\n",
    "Now, try some more sequences:\n"
   ]
  },
  {
   "cell_type": "code",
   "execution_count": null,
   "metadata": {},
   "outputs": [],
   "source": [
    "# print MULTIPLES of 10, starting from 0\n",
    "tens = 0\n",
    "while \n",
    "    print"
   ]
  },
  {
   "cell_type": "code",
   "execution_count": null,
   "metadata": {},
   "outputs": [],
   "source": [
    "# print the first 9 SQUARE numbers, starting from 1\n",
    "squares = 1\n"
   ]
  },
  {
   "cell_type": "markdown",
   "metadata": {
    "slideshow": {
     "slide_type": "slide"
    }
   },
   "source": [
    "### *EXTRA CHALLENGE*\n",
    "\n",
    "Try printing the FIBONACCI sequence.\n",
    "\n",
    "The fibonacci sequence is the SUM of the PREVIOUS TWO numbers, starting with 1 and 1.\n",
    "\n",
    "So, the next number is 1 PLUS 1, which is 2.\n",
    "\n",
    "The next number is 1 PLUS 2, which is 3.\n",
    "\n",
    "The next number is 2 PLUS 3, which is 5.\n",
    "\n",
    "**Find the FIBONACCI numbers less than 200**"
   ]
  },
  {
   "cell_type": "markdown",
   "metadata": {
    "slideshow": {
     "slide_type": "slide"
    }
   },
   "source": [
    "Here's a hint to get started:\n",
    "\n",
    "Put the first two numbers AND the sum into variables\n",
    "\n",
    "    N = 1\n",
    "    M = 1\n",
    "    sum = ...\n",
    "    \n",
    "Next, make a loop that runs as long as N is less than 200\n",
    "\n",
    "    while N < 200:\n",
    "    \n",
    "Inside the loop, print the sum, and find NEW values for the variables\n",
    "\n",
    "    sum =\n",
    "    N = \n",
    "    M = \n",
    "    \n",
    "<img src=\"images/fibonacci.png\" width=\"400px\" style=\"position:absolute;top: 0px;right: 0px;\">"
   ]
  },
  {
   "cell_type": "code",
   "execution_count": null,
   "metadata": {
    "slideshow": {
     "slide_type": "slide"
    }
   },
   "outputs": [],
   "source": [
    "# PRINT the FIBONACCI numbers smaller than 200\n",
    "\n",
    "N = \n",
    "M = \n",
    "sum =\n",
    "\n",
    "while \n",
    "    print\n",
    "    N = \n",
    "    M = \n",
    "    sum ="
   ]
  },
  {
   "cell_type": "markdown",
   "metadata": {
    "slideshow": {
     "slide_type": "slide"
    }
   },
   "source": [
    "### *SOLUTION*\n",
    "\n",
    "    N = 1\n",
    "    M = 1\n",
    "    sum = N + M\n",
    "\n",
    "    while sum < 200:\n",
    "        print(sum)\n",
    "        N = M\n",
    "        M = sum\n",
    "        sum = N + M"
   ]
  },
  {
   "cell_type": "code",
   "execution_count": null,
   "metadata": {
    "slideshow": {
     "slide_type": "skip"
    }
   },
   "outputs": [],
   "source": [
    "from IPython.display import YouTubeVideo\n",
    "\n",
    "YouTubeVideo('aXKVOLwpDg8', width=800, height=300)"
   ]
  }
 ],
 "metadata": {
  "celltoolbar": "Slideshow",
  "kernelspec": {
   "display_name": "Python 3",
   "language": "python",
   "name": "python3"
  },
  "language_info": {
   "codemirror_mode": {
    "name": "ipython",
    "version": 3
   },
   "file_extension": ".py",
   "mimetype": "text/x-python",
   "name": "python",
   "nbconvert_exporter": "python",
   "pygments_lexer": "ipython3",
   "version": "3.7.5"
  }
 },
 "nbformat": 4,
 "nbformat_minor": 2
}
