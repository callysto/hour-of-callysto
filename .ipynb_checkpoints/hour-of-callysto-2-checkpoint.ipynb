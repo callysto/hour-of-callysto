{
 "cells": [
  {
   "cell_type": "code",
   "execution_count": null,
   "metadata": {
    "jupyter": {
     "source_hidden": true
    },
    "slideshow": {
     "slide_type": "skip"
    }
   },
   "outputs": [],
   "source": [
    "%%html\n",
    "<style>div.run_this_cell{display:block;}</style>"
   ]
  },
  {
   "cell_type": "markdown",
   "metadata": {
    "slideshow": {
     "slide_type": "-"
    }
   },
   "source": [
    "<img style=\"float:right;margin-left:50px;margin-right:50px;\" width=\"300\" src=\"images/discovercoding.png\">\n",
    "\n",
    "# 1. Welcome to the Hour of Callysto!\n",
    "Lesson created and taught by [Discover Coding](https://discovercoding.ca).\n",
    "\n",
    "With support and funding from [Callysto](https://callysto.ca/) and the [Pacific Institute for Mathematical Sciences](https://www.pims.math.ca/)\n"
   ]
  },
  {
   "cell_type": "markdown",
   "metadata": {},
   "source": [
    "<img style=\"float:right;padding-left:50px;padding-right:50px;\" width=\"400\" src=\"images/library.jpg\">\n",
    "\n",
    "## 2. What is Callysto?\n",
    "\n",
    "<div style=\"padding-top:20px;padding-left:50px;font-size:large;\">\n",
    "\n",
    "- **Callysto** is a free and online collection of special textbooks for Canadian students. \n",
    "\n",
    "- It's your own personal school library of the future.\n",
    "</div>"
   ]
  },
  {
   "cell_type": "markdown",
   "metadata": {
    "slideshow": {
     "slide_type": "subslide"
    }
   },
   "source": [
    "<img style=\"float:left;padding-left:50px;padding-right:10px;margin-right:50px;\" width=\"400px\" src=\"images/notebook.jpg\">\n",
    "\n",
    "<div style=\"padding-left:50px;padding-top:20px;font-size:large;\">\n",
    "\n",
    "- Callysto uses **Jupyter** notebooks to display text, images, videos, and even code! \n",
    "    \n",
    "- It's a notebook where you **WRITE** and **RUN** code!\n",
    "\n",
    "- It's the same tool used in universities  by programmers and data scientists!\n",
    "</div>"
   ]
  },
  {
   "cell_type": "markdown",
   "metadata": {
    "slideshow": {
     "slide_type": "subslide"
    }
   },
   "source": [
    "<img style=\"float:right;padding-right:100px;margin-right:100px;\" width=\"200px\" src=\"images/python.png\">\n",
    "\n",
    "<div style=\"padding-left:50px;font-size:large;\">\n",
    "\n",
    "- We are going to use this notebook to learn *coding* with **Python**. \n",
    "\n",
    "- Python *code* are instructions in a *language* that a computer can understand.\n",
    "\n",
    "- When we are *coding*, we are telling the computer what to do!\n",
    "\n",
    "</div>"
   ]
  },
  {
   "cell_type": "markdown",
   "metadata": {
    "slideshow": {
     "slide_type": "slide"
    }
   },
   "source": [
    "\n",
    "## 3. Getting Started with Callysto\n",
    "\n",
    "You've already made it here! To use Callysto:\n",
    "1. Log into Callysto: https://hub.callysto.ca\n",
    "1. Find an interesting notebook [from here](https://callysto.ca/learning_modules/)\n",
    "1. Click on it to get your own copy of it\n",
    "1. Open, read, run it from the hub (look for the .ipynb file)\n"
   ]
  },
  {
   "cell_type": "markdown",
   "metadata": {
    "slideshow": {
     "slide_type": "subslide"
    }
   },
   "source": [
    "<img src=\"images/hub.png\">\n"
   ]
  },
  {
   "cell_type": "markdown",
   "metadata": {
    "slideshow": {
     "slide_type": "slide"
    }
   },
   "source": [
    "# 4. Python\n",
    "\n",
    "What makes these notebooks cool is that we can write and run code, such as *Python*, directly inside the notebook! We're not just *READING* a textbook anymore; we can now use it to solve problems for us! \n",
    "\n",
    "### *Example 4.1*\n",
    "\n",
    "Let's run our first program using [Turtle graphics](https://en.wikipedia.org/wiki/Turtle_graphics)! Select the code block below and click <img src=\"images/run-button.png\" style=\"display:inline-block;\"> or press `CTRL+ENTER`\n"
   ]
  },
  {
   "cell_type": "code",
   "execution_count": null,
   "metadata": {
    "slideshow": {
     "slide_type": "-"
    }
   },
   "outputs": [],
   "source": [
    "# My First Turtle Program!\n",
    "from mobilechelonian import Turtle\n",
    "t = Turtle()\n",
    "t.forward(50)"
   ]
  },
  {
   "cell_type": "markdown",
   "metadata": {},
   "source": [
    "Let's break down what we each line of code that we see:\n",
    "\n",
    "1. `# My First Turtle Program!` - Any line starting with a `#` is a comment (or notes). It is NOT CODE!\n",
    "\n",
    "1. `from mobilechelonian import Turtle` - This lets use some `Turtle` code that someone else wrote. We won't worry about it for this class.\n",
    "\n",
    "1. `fred = Turtle()` - This creates our turtle, named `t`.\n",
    "\n",
    "1. `t.forward(50)` - This tells our turtle `t` to move `forward` by 50 spaces."
   ]
  },
  {
   "cell_type": "markdown",
   "metadata": {
    "slideshow": {
     "slide_type": "slide"
    }
   },
   "source": [
    "### *ACTIVITY 4.2*\n",
    "\n",
    "Let's experiment with the turtle. Change the code above, and re-run it.\n",
    "Can you:\n",
    "\n",
    "1. Change how far `forward` turtle moves. How far can it go?\n",
    "1. Can you make turtle move a *negative* number?\n",
    "1. Instead of moving `forward`, can you tell turtle to move `backward`?\n",
    "1. BONUS: Can you rename the turtle from `t` to a better name?"
   ]
  },
  {
   "cell_type": "markdown",
   "metadata": {
    "slideshow": {
     "slide_type": "slide"
    }
   },
   "source": [
    "## 5. More Turtle *Functions*\n",
    "\n",
    "`forward` and `backwards` are called *Functions*. They are commands that `Turtle()`s, like `t`, understand.\n",
    "\n",
    "There are more *functions* that we can use to make turtles do more interesting things.\n",
    "\n",
    "1. To set **SPEED**\n",
    "    * `t.speed(number)`\n",
    "    * Sets the speed of our turtle, between 1-10. \n",
    "    * 10 is usually a good speed ;)\n",
    "\n",
    "1. To make turtle **TURN** \n",
    "    * `t.right(degrees)` : Turn turtle left\n",
    "    * `t.left(degrees)` : Turn turtle right \n",
    "    * degrees should between 0 to 360\n",
    "1. Change the **COLOR** of the line\n",
    "    * `t.pencolor('color')` : \n",
    "    * Sets the color of the turtle’s line. \n",
    "    * The color can be a [color name from this list](https://www.w3schools.com/tags/ref_colornames.asp)\n",
    "Now we can draw more shapes with turtle, and do it faster!"
   ]
  },
  {
   "cell_type": "markdown",
   "metadata": {},
   "source": [
    "### *Example 5.1*\n",
    "\n",
    "Let's make a 2D shape, like a triangle!\n",
    "\n",
    "Run the following code:"
   ]
  },
  {
   "cell_type": "code",
   "execution_count": null,
   "metadata": {},
   "outputs": [],
   "source": [
    "# My Turtle is now 2D!\n",
    "from mobilechelonian import Turtle\n",
    "t = Turtle()\n",
    "t.speed(5)\n",
    "t.forward(100)\n",
    "t.left(120)\n",
    "t.forward(100)\n",
    "t.left(120)\n",
    "t.forward(100)"
   ]
  },
  {
   "cell_type": "markdown",
   "metadata": {},
   "source": [
    "### *ACTIVITY 5.2*\n",
    "\n",
    "Can you change the color of the triangle?\n",
    "\n",
    "Try inserting this line of code into Example 5.1:\n",
    "\n",
    "`t.pencolor('red')`\n",
    "\n",
    "Try other [colors named here](https://www.w3schools.com/tags/ref_colornames.asp)\n",
    "\n",
    "**Observe**\n",
    "1. What happens if you write this BEFORE the first move `forward`?\n",
    "1. What happens if you write this AFTER the last move `forward`?"
   ]
  },
  {
   "cell_type": "markdown",
   "metadata": {
    "slideshow": {
     "slide_type": "slide"
    }
   },
   "source": [
    "<img style=\"float:right;margin-right:100px;\" width=\"300px\" src=\"images/turtle-house.png\">\n",
    "\n",
    "### *ACTIVITY 5.3*\n",
    "\n",
    "Can you make a program where the turtle draws a house that looks like this one?\n",
    "\n",
    "- **Hint 1:** Start by copy-and-paste from example 5.1\n",
    "\n",
    "- **Hint 2:** After drawing the triangle, turtle should turn 30 degrees\n",
    "\n",
    "- **Hint 3:** Draw a line (100 is a good length), turn, draw a line, turn, draw a line..."
   ]
  },
  {
   "cell_type": "code",
   "execution_count": null,
   "metadata": {},
   "outputs": [],
   "source": [
    "# My Turtle is now 2D!\n",
    "from mobilechelonian import Turtle\n",
    "t = Turtle()\n",
    "t.speed(1)\n",
    "\n",
    "# hint 1 - copy and paste the previous code\n",
    "\n",
    "# hint 2 - the next turn should be 30 degrees\n",
    "\n",
    "# hint 3 - forward, turn, forward, turn, forward..."
   ]
  },
  {
   "cell_type": "markdown",
   "metadata": {
    "slideshow": {
     "slide_type": "slide"
    }
   },
   "source": [
    "# 6. LOOPS\n",
    "\n",
    "Did you notice that drawing shapes used the same lines of code over and over?\n",
    "\n",
    "Instead of typing the same things over and over, we can use a *loop* to run the same code multiple times.\n",
    "\n",
    "### *Example 6.1*\n",
    "\n",
    "Here's an example of a loop using the special keyword `for`. This code says:\n",
    "\n",
    "        `for each value of between 1 and 10, move forward, tun right`\n",
    "\n",
    "*Can you predict what it will draw?*\n",
    "\n",
    "RUN the following code and see!"
   ]
  },
  {
   "cell_type": "code",
   "execution_count": null,
   "metadata": {},
   "outputs": [],
   "source": [
    "from mobilechelonian import Turtle\n",
    "t = Turtle()\n",
    "t.speed(5)\n",
    "\n",
    "# This loop runs 10 times\n",
    "for i in range(10): \n",
    "    t.forward(50) \n",
    "    t.right(80) \n",
    "    print(i)\n",
    "    "
   ]
  },
  {
   "cell_type": "markdown",
   "metadata": {
    "slideshow": {
     "slide_type": "slide"
    }
   },
   "source": [
    "### *ACTIVITY 6.2*\n",
    "\n",
    "Experiment with the code in Example 6.1, and try different values.\n",
    "\n",
    "Can you:\n",
    "\n",
    "1. Make turtle draw faster?\n",
    "1. Change how BIG the shape is? (Hint: change the distance turtle moves `forward`)\n",
    "1. Change how much the turtle turns each time?\n",
    "    1. What happens when turtle turns less than 90?\n",
    "    1. What happens when turtle turns 90?\n",
    "    1. What happens when turtle turns more than 90?\n",
    "1. Can you add some color?"
   ]
  },
  {
   "cell_type": "markdown",
   "metadata": {},
   "source": [
    "# 7. LISTS\n",
    "\n",
    "So far, we've only been drawing with one color. \n",
    "\n",
    "We can now use a *LIST* of colors, and change the color of our lines each time we run the `for` *loop*.\n",
    "\n",
    "We need two new lines of code to do this.\n",
    "\n",
    "First, we'll list out the colors we want:\n",
    "\n",
    "> `colors = [\"brown\", \"teal\", \"purple\"]`\n",
    "\n",
    "Then during the `for` *loop*, we'll pick ONE of the colors. \n",
    "\n",
    "> `t.pencolor(colors[i % 3])`\n",
    "\n",
    "Don't worry about too much about how this code works. But notice that `3` is the number of colors we put in our list.\n",
    "\n",
    "*(For those curious, this line says: for each loop count, `i`, divide by 3, and take the remainder.)*"
   ]
  },
  {
   "cell_type": "markdown",
   "metadata": {},
   "source": [
    "### *Example 7.1*\n",
    "\n",
    "Let's try it out! \n",
    "\n",
    "Run the following code:"
   ]
  },
  {
   "cell_type": "code",
   "execution_count": null,
   "metadata": {},
   "outputs": [],
   "source": [
    "from mobilechelonian import Turtle\n",
    "t = Turtle()\n",
    "t.speed(5)\n",
    "\n",
    "# Create a list of 3 colors.\n",
    "colors = [\"brown\", \"teal\", \"purple\"]\n",
    "\n",
    "# This loop runs 10 times\n",
    "for i in range(10): \n",
    "    t.pencolor(colors[i % 3])\n",
    "    t.forward(50) \n",
    "    t.right(80) "
   ]
  },
  {
   "cell_type": "markdown",
   "metadata": {
    "slideshow": {
     "slide_type": "slide"
    }
   },
   "source": [
    "\n",
    "### *ACTIVITY 7.2*\n",
    "\n",
    "Can you modify Example 7.1  in the following ways:\n",
    "\n",
    "1. Pick 3 different colors to try.\n",
    "1. ADD a 4th color!\n",
    "    1. Hint: You'll need to change `[i % 3]` to a different number..."
   ]
  },
  {
   "cell_type": "markdown",
   "metadata": {},
   "source": [
    "\n",
    "### *Example 7.3*\n",
    "\n",
    "Let's try a loop where we draw a SQUARE each time, but do an extra *small* turn before we draw the next square...\n",
    "\n"
   ]
  },
  {
   "cell_type": "code",
   "execution_count": null,
   "metadata": {},
   "outputs": [],
   "source": [
    "from mobilechelonian import Turtle\n",
    "t = Turtle()\n",
    "t.speed(10)\n",
    "colors = [\"brown\", \"teal\", \"purple\"]\n",
    "\n",
    "# Now we'll run a loop.\n",
    "for i in range(5): \n",
    "    t.forward(100)\n",
    "    t.right(90)\n",
    "    t.forward(100)\n",
    "    t.right(90)\n",
    "    t.forward(100)\n",
    "    t.right(90)\n",
    "    t.forward(100)\n",
    "    t.right(90)\n",
    "    t.right(20) # An extra turn before we draw the next square"
   ]
  },
  {
   "cell_type": "markdown",
   "metadata": {
    "slideshow": {
     "slide_type": "slide"
    }
   },
   "source": [
    "### *ACTIVITY 7.4*\n",
    "\n",
    "The picture in Example 7.3 looks incomplete....\n",
    "\n",
    "1. Can you increase the number of times the loop will run so it'll look better?\n",
    "1. Can you insert some code to draw a different square color time?"
   ]
  },
  {
   "cell_type": "markdown",
   "metadata": {},
   "source": [
    "# 8. SUMMARY\n",
    "\n",
    "CONGRADULATIONS for making it to the end of this notebook!\n",
    "\n",
    "Today, you learned:\n",
    "\n",
    "1. What is Callysto, Jupyter Notebooks, and Python\n",
    "1. Wrote a program to draw line art using `turtle`\n",
    "1. Used *LOOPS* and *LISTS* to draw colorful patterns\n",
    "\n",
    "***\n",
    "\n",
    "### GREAT JOB! \n",
    "### Feel free to continue modifying the examples or re-do the activities to make more cool line art!\n"
   ]
  }
 ],
 "metadata": {
  "kernelspec": {
   "display_name": "Python 3",
   "language": "python",
   "name": "python3"
  },
  "language_info": {
   "codemirror_mode": {
    "name": "ipython",
    "version": 3
   },
   "file_extension": ".py",
   "mimetype": "text/x-python",
   "name": "python",
   "nbconvert_exporter": "python",
   "pygments_lexer": "ipython3",
   "version": "3.8.6"
  }
 },
 "nbformat": 4,
 "nbformat_minor": 2
}
